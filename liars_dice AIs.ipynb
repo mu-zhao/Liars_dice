{
 "cells": [
  {
   "cell_type": "code",
   "execution_count": 1,
   "metadata": {},
   "outputs": [
    {
     "name": "stdout",
     "output_type": "stream",
     "text": "Turn 0, Players Dice [3 3 3 3] Player 0 bid [4, 4]\nTurn 1, Players Dice [3 3 3 3] Player 1 bid [4 5]\nTurn 2, Players Dice [3 3 3 3] Player 2 bid [5 1]\nTurn 3, Players Dice [3 3 3 3] Player 3 bid [5 5]\npalyer 0 call liar\nplayer 0 outcome [0 1 1 0 1 0]\nplayer 1 outcome [0 0 0 0 2 1]\nplayer 2 outcome [1 1 0 0 0 1]\nplayer 3 outcome [0 1 0 0 1 1]\ntotal outcome [1 3 1 0 4 3]\nThere are 4 5s\npalyer 0 good call, player 3 loses one dice\n------------------------------------------------------------------\nTurn 0, Players Dice [3 3 3 2] Player 3 bid [1, 5]\nTurn 1, Players Dice [3 3 3 2] Player 0 bid [3, 2]\nTurn 2, Players Dice [3 3 3 2] Player 1 bid [3 3]\nTurn 3, Players Dice [3 3 3 2] Player 2 bid [3 5]\nTurn 4, Players Dice [3 3 3 2] Player 3 bid [4 1]\npalyer 0 call liar\nplayer 0 outcome [0 0 1 1 1 0]\nplayer 1 outcome [0 0 1 2 0 0]\nplayer 2 outcome [0 0 3 0 0 0]\nplayer 3 outcome [0 1 1 0 0 0]\ntotal outcome [0 1 6 3 1 0]\nThere are 1 1s\npalyer 0 good call, player 3 loses one dice\n------------------------------------------------------------------\nTurn 0, Players Dice [3 3 3 1] Player 3 bid [2, 2]\nTurn 1, Players Dice [3 3 3 1] Player 0 bid [3, 5]\nTurn 2, Players Dice [3 3 3 1] Player 1 bid [4 4]\nTurn 3, Players Dice [3 3 3 1] Player 2 bid [5 4]\npalyer 3 call liar\nplayer 0 outcome [1 0 1 0 1 0]\nplayer 1 outcome [0 0 1 0 2 0]\nplayer 2 outcome [1 0 0 0 2 0]\nplayer 3 outcome [0 0 1 0 0 0]\ntotal outcome [2 0 3 0 5 0]\nThere are 7 4s\nplayer 3 bad call, player 3 loses one dice\n------------------------------------------------------------------\nTurn 0, Players Dice [3 3 3 0] Player 0 bid [2, 4]\nTurn 1, Players Dice [3 3 3 0] Player 1 bid [3 3]\nTurn 2, Players Dice [3 3 3 0] Player 2 bid [3 4]\nTurn 3, Players Dice [3 3 3 0] Player 0 bid [3, 5]\nTurn 4, Players Dice [3 3 3 0] Player 1 bid [4 3]\npalyer 2 call liar\nplayer 0 outcome [0 1 0 2 0 0]\nplayer 1 outcome [1 0 0 2 0 0]\nplayer 2 outcome [0 0 2 0 1 0]\ntotal outcome [1 1 2 4 1 0]\nThere are 5 3s\nplayer 2 bad call, player 2 loses one dice\n------------------------------------------------------------------\nTurn 0, Players Dice [3 3 2 0] Player 2 bid [2, 3]\nTurn 1, Players Dice [3 3 2 0] Player 0 bid [2, 5]\nTurn 2, Players Dice [3 3 2 0] Player 1 bid [3 2]\nTurn 3, Players Dice [3 3 2 0] Player 2 bid [3 5]\npalyer 0 call spot-on\nplayer 0 outcome [0 0 1 1 0 1]\nplayer 1 outcome [2 0 1 0 0 0]\nplayer 2 outcome [0 0 0 1 0 1]\ntotal outcome [2 0 2 2 0 2]\nThere are 4 5s\nbad call, player 0 loses one dice\n------------------------------------------------------------------\nTurn 0, Players Dice [2 3 2 0] Player 0 bid [2, 5]\nTurn 1, Players Dice [2 3 2 0] Player 1 bid [3 1]\nTurn 2, Players Dice [2 3 2 0] Player 2 bid [3 3]\npalyer 0 call liar\nplayer 0 outcome [0 0 0 0 1 1]\nplayer 1 outcome [0 1 1 0 0 1]\nplayer 2 outcome [0 0 0 2 0 0]\ntotal outcome [0 1 1 2 1 2]\nThere are 2 3s\npalyer 0 good call, player 2 loses one dice\n------------------------------------------------------------------\nTurn 0, Players Dice [2 3 1 0] Player 2 bid [2, 5]\nTurn 1, Players Dice [2 3 1 0] Player 0 bid [3, 2]\nTurn 2, Players Dice [2 3 1 0] Player 1 bid [3 4]\nTurn 3, Players Dice [2 3 1 0] Player 2 bid [3 5]\npalyer 0 call liar\nplayer 0 outcome [0 0 1 1 0 0]\nplayer 1 outcome [1 1 0 0 1 0]\nplayer 2 outcome [0 0 0 0 0 1]\ntotal outcome [1 1 1 1 1 1]\nThere are 2 5s\npalyer 0 good call, player 2 loses one dice\n------------------------------------------------------------------\nTurn 0, Players Dice [2 3 0 0] Player 0 bid [1, 1]\nTurn 1, Players Dice [2 3 0 0] Player 1 bid [1 4]\npalyer 0 call spot-on\nplayer 0 outcome [0 1 0 1 0 0]\nplayer 1 outcome [1 2 0 0 0 0]\ntotal outcome [1 3 0 1 0 0]\nThere are 1 4s\ngood call,everyone except player 0 loses one dice\n------------------------------------------------------------------\nTurn 0, Players Dice [2 2 0 0] Player 0 bid [1, 1]\nTurn 1, Players Dice [2 2 0 0] Player 1 bid [2 3]\npalyer 0 call liar\nplayer 0 outcome [0 0 1 0 0 1]\nplayer 1 outcome [1 0 0 0 1 0]\ntotal outcome [1 0 1 0 1 1]\nThere are 1 3s\npalyer 0 good call, player 1 loses one dice\n------------------------------------------------------------------\nTurn 0, Players Dice [2 1 0 0] Player 1 bid [1, 3]\nTurn 1, Players Dice [2 1 0 0] Player 0 bid [1, 0]\nTurn 2, Players Dice [2 1 0 0] Player 1 bid [2 3]\npalyer 0 call spot-on\nplayer 0 outcome [1 0 0 0 0 1]\nplayer 1 outcome [0 0 0 1 0 0]\ntotal outcome [1 0 0 1 0 1]\nThere are 2 3s\ngood call,everyone except player 0 loses one dice\n------------------------------------------------------------------\n0\nGame Over\n"
    }
   ],
   "source": [
    "import numpy as np\n",
    "from common import PlatForm as PF \n",
    "from strategies.epsilon_intelligence.epsilon_intelligence import EpsilonIntelligence as EI\n",
    "from strategies.zero_intelligence.zero_intelligence import ZeroIntelligence as ZI\n",
    "from strategies.human_player.player import HumanPlayer as HP\n",
    "from strategies.naive_intelligence.naive_intelligence import NaiveIntelligence as NI\n",
    "player=HP()\n",
    "L=[NI(simulation_time_limit=0.2,aggresive=0.8,simple_minded=False,response_principle=0),ZI(0.5,0.5),ZI(0.5,0.5),ZI(0.5,0.5)]\n",
    "Game=PF(3,L,call_level=0.3,bluff=0.05,trainning=False)\n",
    "Game.play()\n"
   ]
  },
  {
   "cell_type": "markdown",
   "metadata": {},
   "source": [
    "# player 0 is naive_intelligence, the other three players are zero_intelligence "
   ]
  },
  {
   "cell_type": "code",
   "execution_count": null,
   "metadata": {},
   "outputs": [],
   "source": []
  }
 ],
 "metadata": {
  "file_extension": ".py",
  "kernelspec": {
   "display_name": "Python 3",
   "language": "python",
   "name": "python3"
  },
  "language_info": {
   "codemirror_mode": {
    "name": "ipython",
    "version": 3
   },
   "file_extension": ".py",
   "mimetype": "text/x-python",
   "name": "python",
   "nbconvert_exporter": "python",
   "pygments_lexer": "ipython3",
   "version": "3.7.3"
  },
  "mimetype": "text/x-python",
  "name": "python",
  "npconvert_exporter": "python",
  "pygments_lexer": "ipython3",
  "version": 3
 },
 "nbformat": 4,
 "nbformat_minor": 2
}